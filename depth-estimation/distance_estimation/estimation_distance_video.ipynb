{
 "cells": [
  {
   "cell_type": "code",
   "execution_count": 1,
   "id": "passive-adolescent",
   "metadata": {},
   "outputs": [],
   "source": [
    "import cv2 as cv\n",
    "import numpy as np\n",
    "import math"
   ]
  },
  {
   "cell_type": "code",
   "execution_count": 2,
   "id": "announced-coating",
   "metadata": {},
   "outputs": [],
   "source": [
    "# Import du model + reglage\n",
    "model = 'yolov2.weights'\n",
    "config = 'yolov2.cfg'\n",
    "net = cv.dnn.readNetFromDarknet(config,model)\n",
    "min_confidence = 0.25 # float betwen 0 and 1\n",
    "probability_index = 5 # integer"
   ]
  },
  {
   "cell_type": "code",
   "execution_count": 3,
   "id": "graphic-exhibition",
   "metadata": {},
   "outputs": [],
   "source": [
    "cam = cv.VideoCapture(0)\n",
    "cam.release()\n",
    "cam = cv.VideoCapture(0)\n",
    "font = cv.FONT_HERSHEY_COMPLEX"
   ]
  },
  {
   "cell_type": "code",
   "execution_count": 4,
   "id": "unnecessary-connection",
   "metadata": {},
   "outputs": [],
   "source": [
    "# Function to calculate the distance of object from the camera lense\n",
    "def dist_calculator(startX, startY, endX, endY, box_width, box_height, img_w, img_h):\n",
    "    x_3, y_3 = startX, startY - (box_height / 7)  # top left of the triangle\n",
    "    # assumption: camera is rasied above the ground so considering 90% of the height of the image height\n",
    "    x_1, y_1 = img_w / 2, 0.9 * img_h  # bottom of the triangle\n",
    "    x_2, y_2 = endX, endY - (box_height / 7)  # top right of the triangle\n",
    "\n",
    "    # find the angle between bottom and right point\n",
    "    angle_x1_x2 = math.degrees(math.atan2(x_1 - x_2, y_1 - y_2))\n",
    "    # find the angle between bottom and left point\n",
    "    angle_x1_x3 = math.degrees(math.atan2(x_1 - x_3, y_1 - y_3))\n",
    "\n",
    "    angle_right = 90 + angle_x1_x2\n",
    "    angle_left = 90 - angle_x1_x3\n",
    "\n",
    "    # total angle of view for the bench from bottom center point of the image.\n",
    "    total_angle = angle_right + angle_left\n",
    "\n",
    "    # Bench length assumed to be 2 meters in millimeters. This value can automated, based on the type of bench used.\n",
    "    bench_length = 2000\n",
    "\n",
    "    distance = (bench_length * (1 / total_angle) * 57) / 1000\n",
    "    return total_angle, distance"
   ]
  },
  {
   "cell_type": "code",
   "execution_count": 5,
   "id": "framed-messaging",
   "metadata": {},
   "outputs": [],
   "source": [
    "# Camera\n",
    "while True:\n",
    "    # Import capture of video then flip\n",
    "    isTrue, original_frame = cam.read()\n",
    "    original_frame = cv.flip(original_frame, 1)\n",
    "    # Resizing image\n",
    "    resize_img = cv.resize(original_frame, (224, 224))\n",
    "    # Saves\n",
    "    height, width, _ = original_frame.shape\n",
    "    # ============\n",
    "    # Prepocess data\n",
    "    blob = cv.dnn.blobFromImage(resize_img, 1.0 / 255.0, (224, 224), True, crop=False)\n",
    "    # Entries + prédictions\n",
    "    net.setInput(blob)\n",
    "    predictions = net.forward()\n",
    "    for i in range(predictions.shape[0]):\n",
    "        prob_arr = predictions[i][probability_index:]\n",
    "        class_index = prob_arr.argmax(axis=0)\n",
    "        confidence = prob_arr[class_index]\n",
    "        if confidence > min_confidence:\n",
    "            x_center = predictions[i][0] * width\n",
    "            y_center = predictions[i][1] * height\n",
    "            width_box = predictions[i][2] * width\n",
    "            height_box = predictions[i][3] * height\n",
    "            \n",
    "            x1 = int(x_center - width_box * 0.5)  # Start X coordinate\n",
    "            y1 = int(y_center - height_box * 0.5)  # Start Y coordinate\n",
    "            x2 = int(x_center + width_box * 0.5)  # End X coordinate\n",
    "            y2 = int(y_center + height_box * 0.5)  # End y coordinate\n",
    "            \n",
    "            cv.rectangle(original_frame, (x1, y1), (x2, y2), (0, 255, 120), 2)\n",
    "            \n",
    "            roi_corners = [[0.0 * width_box, 1.0 * height],  # left, down\n",
    "                            [x1 + (width_box / 5), y2 - (height_box / 7)],  # left, up\n",
    "                            [x1 + 4 * (width_box / 5), y2 - (height_box / 7)],  # right, up\n",
    "                            [1.0 * width, 1.0 * height]]  # right, down\n",
    "\n",
    "            original_frame = cv.circle(original_frame, (int(width), int(height)), 3, (0, 0, 255), -1)\n",
    "            triangle_pts = [[width / 2, 0.9 * height],  # left, down / bottom point of the traingle\n",
    "                            [x1, y2 - (height_box / 7)],  # left, up\n",
    "                            [x2, y2 - (height_box / 7)],  # right, up\n",
    "                            [width / 2, 0.9 * height]]  # right, down / / bottom point of the traingle\n",
    "            src = np.float32(triangle_pts)\n",
    "            pts = np.array(src, np.int32)\n",
    "            pts = pts.reshape((-1, 1, 2))\n",
    "            \n",
    "            _, distance = dist_calculator(x1, y1, x2, y2, width_box, height_box, width, height)\n",
    "            cv.putText(original_frame, \"Distance: {} mm\".format(round(distance, 2)), (x1, y1 + 13), cv.FONT_HERSHEY_SIMPLEX, 0.5,\n",
    "                    (0, 255, 120), 2)\n",
    "    # ================ Show frame\n",
    "    cv.imshow(\"Video\", original_frame)\n",
    "    # If q pressed then quit\n",
    "    if cv.waitKey(20) & 0xFF == ord('q'):\n",
    "        break\n",
    "# Destroy all window\n",
    "cv.destroyAllWindows()"
   ]
  }
 ],
 "metadata": {
  "kernelspec": {
   "display_name": "Python 3",
   "language": "python",
   "name": "python3"
  },
  "language_info": {
   "codemirror_mode": {
    "name": "ipython",
    "version": 3
   },
   "file_extension": ".py",
   "mimetype": "text/x-python",
   "name": "python",
   "nbconvert_exporter": "python",
   "pygments_lexer": "ipython3",
   "version": "3.7.3"
  }
 },
 "nbformat": 4,
 "nbformat_minor": 5
}
