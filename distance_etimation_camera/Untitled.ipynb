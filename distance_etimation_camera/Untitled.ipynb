{
 "cells": [
  {
   "cell_type": "code",
   "execution_count": 3,
   "id": "agricultural-diagram",
   "metadata": {},
   "outputs": [],
   "source": [
    "# ====== Article \n",
    "# https://openaccess.thecvf.com/content_ICCV_2019/papers/Zhu_Learning_Object-Specific_Distance_From_a_Monocular_Image_ICCV_2019_paper.pdf\n",
    "\n",
    "# ====== /!\\ 175 GO DATASET\n",
    "# wget -i splits/kitti_archives_to_download.txt -P kitti_data/\n",
    "\n",
    "# ====== Algorithm to estimate distance\n",
    "# inverse perspective mapping algorithm\n",
    "\n",
    "# ====== depth prediction\n",
    "# https://cs.nyu.edu/~deigen/depth/\n",
    "# HAL : https://tel.archives-ouvertes.fr/tel-02426260/document\n",
    "\n",
    "# ====== github\n",
    "# https://github.com/mrharicot/monodepth\n",
    "# https://github.com/priya-dwivedi/Deep-Learning/tree/master/depth_estimation"
   ]
  },
  {
   "cell_type": "code",
   "execution_count": 1,
   "id": "royal-authority",
   "metadata": {},
   "outputs": [],
   "source": [
    "import cv2 as cv\n",
    "import imutils\n",
    "import numpy as np"
   ]
  },
  {
   "cell_type": "code",
   "execution_count": 1,
   "id": "subtle-panel",
   "metadata": {},
   "outputs": [
    {
     "ename": "NameError",
     "evalue": "name 'cv' is not defined",
     "output_type": "error",
     "traceback": [
      "\u001b[0;31m---------------------------------------------------------------------------\u001b[0m",
      "\u001b[0;31mNameError\u001b[0m                                 Traceback (most recent call last)",
      "\u001b[0;32m<ipython-input-1-6f99a7d1fffa>\u001b[0m in \u001b[0;36m<module>\u001b[0;34m\u001b[0m\n\u001b[0;32m----> 1\u001b[0;31m \u001b[0mcam\u001b[0m \u001b[0;34m=\u001b[0m \u001b[0mcv\u001b[0m\u001b[0;34m.\u001b[0m\u001b[0mVideoCapture\u001b[0m\u001b[0;34m(\u001b[0m\u001b[0;36m0\u001b[0m\u001b[0;34m)\u001b[0m\u001b[0;34m\u001b[0m\u001b[0;34m\u001b[0m\u001b[0m\n\u001b[0m\u001b[1;32m      2\u001b[0m \u001b[0mfont\u001b[0m \u001b[0;34m=\u001b[0m \u001b[0mcv\u001b[0m\u001b[0;34m.\u001b[0m\u001b[0mFONT_HERSHEY_COMPLEX\u001b[0m\u001b[0;34m\u001b[0m\u001b[0;34m\u001b[0m\u001b[0m\n\u001b[1;32m      3\u001b[0m \u001b[0mkernel\u001b[0m \u001b[0;34m=\u001b[0m \u001b[0mnp\u001b[0m\u001b[0;34m.\u001b[0m\u001b[0mones\u001b[0m\u001b[0;34m(\u001b[0m\u001b[0;34m(\u001b[0m\u001b[0;36m3\u001b[0m\u001b[0;34m,\u001b[0m\u001b[0;36m3\u001b[0m\u001b[0;34m)\u001b[0m\u001b[0;34m,\u001b[0m \u001b[0mnp\u001b[0m\u001b[0;34m.\u001b[0m\u001b[0muint8\u001b[0m\u001b[0;34m)\u001b[0m\u001b[0;34m\u001b[0m\u001b[0;34m\u001b[0m\u001b[0m\n",
      "\u001b[0;31mNameError\u001b[0m: name 'cv' is not defined"
     ]
    }
   ],
   "source": [
    "cam = cv.VideoCapture(0)\n",
    "font = cv.FONT_HERSHEY_COMPLEX\n",
    "kernel = np.ones((3,3), np.uint8)"
   ]
  },
  {
   "cell_type": "code",
   "execution_count": 4,
   "id": "accurate-broadcast",
   "metadata": {},
   "outputs": [],
   "source": [
    "def find_marker(image):\n",
    "    # convert the image to grayscale, blur it, and detect edges\n",
    "    img = cv.cvtColor(image, cv.COLOR_BGR2GRAY)\n",
    "    img = cv.GaussianBlur(img, (5, 5), 0)\n",
    "    img = cv.Canny(img, 35, 125)\n",
    "    # find the contours in the edged image and keep the largest one;\n",
    "    # we'll assume that this is our piece of paper in the image\n",
    "    cnts = cv.findContours(img.copy(), cv.RETR_LIST, cv.CHAIN_APPROX_SIMPLE)\n",
    "    cnts = imutils.grab_contours(cnts)\n",
    "    c = max(cnts, key = cv.contourArea)\n",
    "    # compute the bounding box of the of the paper region and return it\n",
    "    return cv.minAreaRect(c)"
   ]
  },
  {
   "cell_type": "code",
   "execution_count": null,
   "id": "protected-shelf",
   "metadata": {
    "scrolled": true
   },
   "outputs": [],
   "source": []
  },
  {
   "cell_type": "code",
   "execution_count": 9,
   "id": "judicial-march",
   "metadata": {},
   "outputs": [],
   "source": [
    "# Camera object\n",
    "while cam.isOpened():\n",
    "    isTrue, original_frame = cam.read()\n",
    "    if isTrue:\n",
    "        # Frame\n",
    "        original_frame = cv.flip(original_frame, 1)\n",
    "        if cv.waitKey(20) & 0xFF == ord('q'):\n",
    "            break\n",
    "        cv.imshow(\"Video\", original_frame)\n",
    "    else:\n",
    "        cam.release()\n",
    "        cv.destroyAllWindows()\n",
    "        break"
   ]
  },
  {
   "cell_type": "code",
   "execution_count": 20,
   "id": "alike-movie",
   "metadata": {},
   "outputs": [],
   "source": [
    "img = cv.imread(\"Resources/Photos/cat.jpg\")\n",
    "img = cv.cvtColor(img, cv.COLOR_BGR2GRAY)\n",
    "img = cv.GaussianBlur(img, (5, 5), 0)\n",
    "img = cv.Canny(img, 35, 125)\n",
    "cnts = cv.findContours(img.copy(), cv.RETR_LIST, cv.CHAIN_APPROX_SIMPLE)\n",
    "cnts = imutils.grab_contours(cnts)\n",
    "c = max(cnts, key = cv.contourArea)\n",
    "c = cv.minAreaRect(c)\n",
    "print(c)\n",
    "cv.imshow(\"Image\", img)\n",
    "cv.waitKey(0)\n",
    "cv.destroyAllWindows()"
   ]
  },
  {
   "cell_type": "code",
   "execution_count": 3,
   "id": "sporting-killing",
   "metadata": {},
   "outputs": [
    {
     "data": {
      "text/plain": [
       "(697, 192, 640)"
      ]
     },
     "execution_count": 3,
     "metadata": {},
     "output_type": "execute_result"
    }
   ],
   "source": [
    "img_array = np.load('mono_640x192_eigen.npy')\n",
    "img_array.shape\n",
    "#cv.imshow(\"npy\", img_array)\n",
    "#cv.waitKey(0)\n",
    "#cv.destroyAllWindows()"
   ]
  }
 ],
 "metadata": {
  "kernelspec": {
   "display_name": "Python 3",
   "language": "python",
   "name": "python3"
  },
  "language_info": {
   "codemirror_mode": {
    "name": "ipython",
    "version": 3
   },
   "file_extension": ".py",
   "mimetype": "text/x-python",
   "name": "python",
   "nbconvert_exporter": "python",
   "pygments_lexer": "ipython3",
   "version": "3.7.3"
  }
 },
 "nbformat": 4,
 "nbformat_minor": 5
}
